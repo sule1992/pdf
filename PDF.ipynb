{
 "cells": [
  {
   "cell_type": "code",
   "execution_count": 47,
   "id": "365aa867-6c94-47ed-9f8f-701b8fada6e4",
   "metadata": {},
   "outputs": [],
   "source": [
    "# !pip install PyPDF2\n",
    "# !pip install nltk\n",
    "import nltk\n",
    "import re\n",
    "import json\n",
    "import PyPDF2\n",
    "from reportlab.pdfgen import canvas\n",
    "from reportlab.lib.pagesizes import letter\n",
    "from reportlab.platypus import Paragraph, SimpleDocTemplate\n",
    "from reportlab.lib.styles import getSampleStyleSheet\n",
    "import openai\n",
    "import requests"
   ]
  },
  {
   "cell_type": "code",
   "execution_count": 264,
   "id": "af934ea6-84c8-4ef4-b788-5cc36e34a55b",
   "metadata": {},
   "outputs": [],
   "source": [
    "def query_chatgpt(prompt, model=\"gpt-3.5-turbo\"):\n",
    "    \n",
    "    URL = \"https://api.openai.com/v1/chat/completions\" \n",
    "    # openai.api_key = \n",
    "\n",
    "    payload = {\n",
    "               \"model\": \"gpt-3.5-turbo\",\n",
    "               \"temperature\" : 0,\n",
    "               \"messages\" :[\n",
    "                           {\"role\": \"system\", \"content\":  \"You are an expert linguist and author. When given a sentence to summarise, please return \\\n",
    "                                                           the words in the sentence that best capture the meaning of it. The words that you choose \\\n",
    "                                                           to return must be done so in the same order as they appeared in the sentence. Additionally, \\\n",
    "                                                           please return the numerical position of the chosen words within the sentence. The output should \\\n",
    "                                                           be amaximum of 4 words and in list format. \\\n",
    "                                                           For an example, if given the following sentence \\\n",
    "                                                           'An AI learned to win chess by making moves human grand masters had never conceived.' \\\n",
    "                                                           The output should be ['AI', 'learned', 'chess'] \\\n",
    "                                                           Another example, if given the following sentence \\\n",
    "                                                           'In indian philosophy, enlightenment is seen to be ineffable.' \\\n",
    "                                                           The output should be ['indian', 'philosophy', 'enlightenment', 'ineffable'] \\\n",
    "                                                           Another example, if given the following sentence \\\n",
    "                                                           'In the 20th century, we learnt that war is never the answer, but it still remains a possibility.' \\\n",
    "                                                           The output should be ['war', 'never', 'answer'] \\\n",
    "                                                           Another example, if given the following sentence \\\n",
    "                                                           'One of the most important things to build for a high performing data team, is an experimentation platform.' \\\n",
    "                                                           The output should be ['important', 'data', 'team', 'experimentation'] \\\n",
    "                                                           Another example, if given the following sentence \\\n",
    "                                                           'The pay back period is the most important metrics for any business, regardless of industry or size.' \\\n",
    "                                                           The output should be ['pay', 'back', 'important', 'metrics']\"},\n",
    "                            {\"role\": \"user\", \"content\": prompt},\n",
    "                            ] \n",
    "              }\n",
    "    \n",
    "    headers = {\n",
    "              \"Content-Type\": \"application/json\",\n",
    "              \"Authorization\": f\"Bearer {openai.api_key}\"\n",
    "              }\n",
    "\n",
    "    response = requests.post(URL, headers=headers, json=payload)\n",
    "    response = response.json()\n",
    "\n",
    "\n",
    "    return response['choices'][0]['message']['content']"
   ]
  },
  {
   "cell_type": "code",
   "execution_count": 265,
   "id": "eae63170-2257-40c9-9fef-c7e492550196",
   "metadata": {},
   "outputs": [
    {
     "name": "stdout",
     "output_type": "stream",
     "text": [
      "['leave', 'examples', 'works']\n"
     ]
    }
   ],
   "source": [
    "prompt = \"I like to leave examples so you can see how it works.\"\n",
    "\n",
    "response = query_chatgpt(prompt)\n",
    "\n",
    "print(response)"
   ]
  },
  {
   "cell_type": "code",
   "execution_count": 266,
   "id": "4ef07d22-93b5-4f6b-995d-af8209ef38c3",
   "metadata": {},
   "outputs": [],
   "source": [
    "                                                                    # Doing it manually \n",
    "# Open the PDF file\n",
    "with open('/Users/suleman.farooqi/test.pdf', 'rb') as file:\n",
    "    # Create a PDF reader\n",
    "    reader = PyPDF2.PdfReader(file)\n",
    "    # Get the content of the first page\n",
    "    page = reader.pages[0]\n",
    "    pdf_content = page.extract_text()\n",
    "\n",
    "\n",
    "\n",
    "# Bold these words (I've chosen them manually)\n",
    "words = pdf_content.split()\n",
    "\n",
    "for i in [1, 2, 5, 16, 17, 20, 31, 32, 41, 58, 63]:\n",
    "    words[i] = '<b>' + words[i] + '</b>'\n",
    "\n",
    "\n",
    "# Combine the words back into a string\n",
    "modified_text = ' '.join(words)\n",
    "\n",
    "# Create a new PDF with the modified text\n",
    "styles = getSampleStyleSheet()\n",
    "styleN = styles['BodyText']\n",
    "\n",
    "story = []\n",
    "\n",
    "modified_text_paragraph = Paragraph(modified_text, styleN)\n",
    "story.append(modified_text_paragraph)\n",
    "\n",
    "pdf = SimpleDocTemplate('/Users/suleman.farooqi/test_output_manual.pdf', pagesize=letter)\n",
    "pdf.build(story)\n"
   ]
  },
  {
   "cell_type": "code",
   "execution_count": 267,
   "id": "a32c220f-b112-46d5-97c0-bb716c47b184",
   "metadata": {},
   "outputs": [],
   "source": [
    "                                                                    # Doing it with GPT \n",
    "# Open the PDF file\n",
    "with open('/Users/suleman.farooqi/test.pdf', 'rb') as file:\n",
    "    # Create a PDF reader\n",
    "    reader = PyPDF2.PdfReader(file)\n",
    "    # Get the content of the first page\n",
    "    page = reader.pages[0]\n",
    "    pdf_content = page.extract_text()\n",
    "\n",
    "\n",
    "# Initialise the list \n",
    "results = []\n",
    "\n",
    "# Query chatGPT to find the best words to bold\n",
    "sentences = nltk.tokenize.sent_tokenize(pdf_content)\n",
    "\n",
    "for i, sentence in enumerate(sentences):\n",
    "    \n",
    "    # Call OpenAI API to identify the words in the given sentence that should be bold     \n",
    "    bold_words = query_chatgpt(sentence)\n",
    "\n",
    "    # Create a list of words for the sentence, and highlight the identified words as bold\n",
    "    words = sentence.split()\n",
    "    words = ['<b>' + word + '</b>' if word in (bold_words) else word for word in words]\n",
    "    modified_text = ' '.join(words)\n",
    "\n",
    "    # Append to results\n",
    "    styles = getSampleStyleSheet()\n",
    "    styleN = styles['BodyText']\n",
    "    modified_text_paragraph = Paragraph(modified_text, styleN)\n",
    "    results.append(modified_text_paragraph)\n",
    "\n",
    "pdf = SimpleDocTemplate('/Users/suleman.farooqi/test_output_gpt.pdf', pagesize=letter)\n",
    "pdf.build(results)\n",
    "\n",
    "    "
   ]
  },
  {
   "cell_type": "code",
   "execution_count": null,
   "id": "18903ef7-ba3f-41dc-be0a-89f79635889d",
   "metadata": {},
   "outputs": [],
   "source": []
  },
  {
   "cell_type": "code",
   "execution_count": null,
   "id": "f723c5c0-2c48-4b8c-9bc5-df6a0575a1e9",
   "metadata": {},
   "outputs": [],
   "source": []
  },
  {
   "cell_type": "code",
   "execution_count": null,
   "id": "58c41972-4110-4dd0-82a7-cd02a1ec3f65",
   "metadata": {},
   "outputs": [],
   "source": []
  },
  {
   "cell_type": "code",
   "execution_count": null,
   "id": "b0791717-276e-45b7-9d94-4f04abd3c277",
   "metadata": {},
   "outputs": [],
   "source": []
  }
 ],
 "metadata": {
  "kernelspec": {
   "display_name": "Python 3 (ipykernel)",
   "language": "python",
   "name": "python3"
  },
  "language_info": {
   "codemirror_mode": {
    "name": "ipython",
    "version": 3
   },
   "file_extension": ".py",
   "mimetype": "text/x-python",
   "name": "python",
   "nbconvert_exporter": "python",
   "pygments_lexer": "ipython3",
   "version": "3.9.7"
  }
 },
 "nbformat": 4,
 "nbformat_minor": 5
}
